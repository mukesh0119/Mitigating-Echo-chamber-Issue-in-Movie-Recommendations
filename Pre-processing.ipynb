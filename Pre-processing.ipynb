{
 "cells": [
  {
   "cell_type": "markdown",
   "id": "9d0b1a23",
   "metadata": {},
   "source": [
    "# <h1> <font color=\"teal\"> Importing Libraries : </font> </h1>"
   ]
  },
  {
   "cell_type": "code",
   "execution_count": 1,
   "id": "ed5c430b",
   "metadata": {},
   "outputs": [],
   "source": [
    "import pandas as pd\n",
    "import numpy as np\n",
    "import matplotlib.pyplot as plt\n",
    "import seaborn as sns\n",
    "from sklearn.preprocessing import StandardScaler\n",
    "from sklearn.neighbors import NearestNeighbors\n",
    "from collections import defaultdict\n",
    "from sklearn.metrics.pairwise import cosine_similarity\n",
    "from sklearn.pipeline import Pipeline\n",
    "from sklearn.base import BaseEstimator\n",
    "from collections import defaultdict\n",
    "import pickle\n",
    "from sklearn.metrics.pairwise import cosine_distances\n",
    "from wordcloud import WordCloud\n",
    "from scipy.spatial import distance"
   ]
  },
  {
   "cell_type": "markdown",
   "id": "a4003f2e",
   "metadata": {},
   "source": [
    "### <h1> <font color=\"teal\"> Importing Datasets : </font> </h1> "
   ]
  },
  {
   "cell_type": "code",
   "execution_count": 2,
   "id": "d0594948",
   "metadata": {},
   "outputs": [],
   "source": [
    "movies = pd.read_csv(\"/Users/mukesh/Documents/01-Dissertation/ml-25m/movies.csv\")\n",
    "ratings = pd.read_csv(\"/Users/mukesh/Documents/01-Dissertation/ml-25m/ratings.csv\")"
   ]
  },
  {
   "cell_type": "markdown",
   "id": "c1a36d79",
   "metadata": {},
   "source": [
    "### <h1> <font color=\"teal\"> PreProcessing :  </font> </h1> "
   ]
  },
  {
   "cell_type": "code",
   "execution_count": 3,
   "id": "414f4f1a",
   "metadata": {},
   "outputs": [],
   "source": [
    "temp = ratings.drop(['timestamp'], axis=1)"
   ]
  },
  {
   "cell_type": "code",
   "execution_count": 4,
   "id": "55f89f37",
   "metadata": {},
   "outputs": [],
   "source": [
    "features = movies.drop(['title'], axis=1)"
   ]
  },
  {
   "cell_type": "code",
   "execution_count": 5,
   "id": "f0a7f757",
   "metadata": {},
   "outputs": [],
   "source": [
    "data = pd.merge(movies, temp, on=\"movieId\")"
   ]
  },
  {
   "cell_type": "markdown",
   "id": "664faa8c",
   "metadata": {},
   "source": [
    "###  <h1> <font color=\"teal\"> Feature Engineering :   </font> </h1> "
   ]
  },
  {
   "cell_type": "markdown",
   "id": "f10428df",
   "metadata": {},
   "source": [
    "---\n",
    "<font face=\"Times New Roman\" color=\"green\">**Data Preprocessing Steps:**</font>\n",
    "---\n",
    "\n",
    "<font face=\"Times New Roman\" color=\"blue\">\n",
    "A series of data preprocessing steps are performed to extract and transform specific features for further analysis.\n",
    "</font>\n"
   ]
  },
  {
   "cell_type": "markdown",
   "id": "802178e5",
   "metadata": {},
   "source": [
    "<font face=\"Times New Roman\" color=\"blue\">\n",
    "    From the title column of the movies DataFrame, the year of release is extracted using a regular expression pattern. \n",
    "    </font>"
   ]
  },
  {
   "cell_type": "code",
   "execution_count": 6,
   "id": "c0fe62a5",
   "metadata": {},
   "outputs": [],
   "source": [
    "movies['year'] = movies['title'].str.extract(r'\\((\\d{4})\\)')"
   ]
  },
  {
   "cell_type": "markdown",
   "id": "ad04056c",
   "metadata": {},
   "source": [
    "<font face=\"Times New Roman\" color=\"blue\">\n",
    "    The genres column in the movies DataFrame contains genre information for each movie, often with multiple genres separated by the '|' character. The str.get_dummies('|') method is employed to convert this categorical genre data into a one-hot encoded format.\n",
    "      </font>"
   ]
  },
  {
   "cell_type": "code",
   "execution_count": 7,
   "id": "c6d0fff6",
   "metadata": {},
   "outputs": [],
   "source": [
    "genre_columns = movies[\"genres\"].str.get_dummies('|')"
   ]
  },
  {
   "cell_type": "markdown",
   "id": "ba700ca6",
   "metadata": {},
   "source": [
    "<font face=\"Times New Roman\" color=\"blue\">\n",
    "    A new DataFrame named content is created by dropping the title column from the movies DataFrame.\n",
    "      </font>"
   ]
  },
  {
   "cell_type": "code",
   "execution_count": 8,
   "id": "904a9b0e",
   "metadata": {},
   "outputs": [],
   "source": [
    "content = movies.drop(\"title\", axis=1, inplace=False)"
   ]
  },
  {
   "cell_type": "code",
   "execution_count": 9,
   "id": "5cd784f1",
   "metadata": {},
   "outputs": [],
   "source": [
    "content = pd.concat([content, genre_columns], axis=1)"
   ]
  },
  {
   "cell_type": "markdown",
   "id": "86273834",
   "metadata": {},
   "source": [
    "<font face=\"Times New Roman\" color=\"blue\">\n",
    "    Any rows with missing values in the year column are removed from both the content and movies DataFrames\n",
    "    </font>"
   ]
  },
  {
   "cell_type": "code",
   "execution_count": 10,
   "id": "f231bd56",
   "metadata": {},
   "outputs": [],
   "source": [
    "content.dropna(subset=['year'], inplace=True)"
   ]
  },
  {
   "cell_type": "code",
   "execution_count": 11,
   "id": "79fde47b",
   "metadata": {},
   "outputs": [],
   "source": [
    "movies.dropna(subset=['year'], inplace=True)"
   ]
  },
  {
   "cell_type": "markdown",
   "id": "89e22a3c",
   "metadata": {},
   "source": [
    "<font face=\"Times New Roman\" color=\"blue\">\n",
    "    The extracted year values are initially of string data type due to the extraction process. For ease of analysis and to ensure accurate numerical operations, the year column in the content DataFrame is converted to an integer\n",
    "    </font>"
   ]
  },
  {
   "cell_type": "code",
   "execution_count": 12,
   "id": "72962727",
   "metadata": {},
   "outputs": [],
   "source": [
    "content['year'] = content['year'].astype(int)"
   ]
  },
  {
   "cell_type": "code",
   "execution_count": 13,
   "id": "2a6b1917",
   "metadata": {},
   "outputs": [],
   "source": [
    "content.drop(\"genres\", axis=1, inplace=True)"
   ]
  },
  {
   "cell_type": "markdown",
   "id": "6b0dd332",
   "metadata": {},
   "source": [
    "<font face=\"Times New Roman\" color=\"blue\">\n",
    "    Created a new array name genres_features and stored all the genres information in it. From scikit-learn library I've used the StandardScaler to standardize the genres_features around zero and scales it based on the standard deviation\n",
    "    </font>"
   ]
  },
  {
   "cell_type": "code",
   "execution_count": 14,
   "id": "286655f1",
   "metadata": {},
   "outputs": [],
   "source": [
    "genres_features = content.iloc[:, 2:-1].values"
   ]
  },
  {
   "cell_type": "code",
   "execution_count": 15,
   "id": "7b15320c",
   "metadata": {},
   "outputs": [],
   "source": [
    "scaler = StandardScaler()\n",
    "genres_features_scaled = scaler.fit_transform(genres_features)"
   ]
  },
  {
   "cell_type": "markdown",
   "id": "7607d46d",
   "metadata": {},
   "source": [
    "<font face=\"Times New Roman\" color=\"blue\">\n",
    "    Since the data is too large to handle, I selected a subset of the data that has the most active users and the most popular movies. The top (new_sample_size =2500) active users and popular movies are identified based on their frequency of occurrence in the dataset. \n",
    "    </font>"
   ]
  },
  {
   "cell_type": "code",
   "execution_count": 16,
   "id": "65039539",
   "metadata": {},
   "outputs": [],
   "source": [
    "new_sample_size = 2500\n",
    "\n",
    "active_users = data[\"userId\"].value_counts().head(new_sample_size).index\n",
    "popular_movies = data[\"title\"].value_counts().head(new_sample_size).index"
   ]
  },
  {
   "cell_type": "code",
   "execution_count": 17,
   "id": "9baeab00",
   "metadata": {},
   "outputs": [],
   "source": [
    "subset_data = data[data[\"userId\"].isin(active_users) & data[\"title\"].isin(popular_movies)]"
   ]
  },
  {
   "cell_type": "markdown",
   "id": "893e2679",
   "metadata": {},
   "source": [
    "<font face=\"Times New Roman\" color=\"blue\">\n",
    "    To help the Collaborative Filtering method, I transformed the subset_data DataFrame into a pivot table, user_movie. This table has users as rows, movies as columns, and the corresponding ratings as values. Also, I replaced all missing values (NaN) with zeros.\n",
    "    </font>"
   ]
  },
  {
   "cell_type": "code",
   "execution_count": 18,
   "id": "a67e3de6",
   "metadata": {},
   "outputs": [],
   "source": [
    "user_movie = subset_data.pivot_table(index=\"userId\", columns=\"title\", values=\"rating\")"
   ]
  },
  {
   "cell_type": "code",
   "execution_count": 19,
   "id": "d916bc59",
   "metadata": {},
   "outputs": [],
   "source": [
    "user_movie.fillna(0, inplace=True)"
   ]
  },
  {
   "cell_type": "code",
   "execution_count": null,
   "id": "2e0b7c70",
   "metadata": {},
   "outputs": [],
   "source": []
  },
  {
   "cell_type": "markdown",
   "id": "93eaed90",
   "metadata": {},
   "source": [
    "### For content based model"
   ]
  },
  {
   "cell_type": "code",
   "execution_count": 20,
   "id": "71559bc8",
   "metadata": {},
   "outputs": [],
   "source": [
    "genre_weight = 0.8\n",
    "year_weight = 0.2"
   ]
  },
  {
   "cell_type": "code",
   "execution_count": 21,
   "id": "e052f6a8",
   "metadata": {},
   "outputs": [],
   "source": [
    "weighted_features = (genres_features_scaled * genre_weight) + (content['year'].values.reshape(-1, 1) * year_weight)\n"
   ]
  },
  {
   "cell_type": "markdown",
   "id": "efac150b",
   "metadata": {},
   "source": [
    "### For collaborative based model"
   ]
  },
  {
   "cell_type": "code",
   "execution_count": 22,
   "id": "e68b55bc",
   "metadata": {},
   "outputs": [],
   "source": [
    "user_similarity_matrix = cosine_similarity(user_movie)"
   ]
  },
  {
   "cell_type": "code",
   "execution_count": 23,
   "id": "77636627",
   "metadata": {},
   "outputs": [],
   "source": [
    "np.fill_diagonal(user_similarity_matrix, 0)\n",
    "user_similarity_matrix = pd.DataFrame(user_similarity_matrix, index=user_movie.index, columns=user_movie.index)"
   ]
  },
  {
   "cell_type": "code",
   "execution_count": null,
   "id": "010255ef",
   "metadata": {},
   "outputs": [],
   "source": []
  },
  {
   "cell_type": "code",
   "execution_count": 24,
   "id": "d94b8679",
   "metadata": {},
   "outputs": [],
   "source": [
    "file_path = '/Users/mukesh/Documents/01-Dissertation/final/content.csv'\n",
    "content.to_csv(file_path, index=False)"
   ]
  },
  {
   "cell_type": "code",
   "execution_count": 25,
   "id": "41c99060",
   "metadata": {},
   "outputs": [],
   "source": [
    "file_path = '/Users/mukesh/Documents/01-Dissertation/final/movies.csv'\n",
    "movies.to_csv(file_path, index=False)"
   ]
  },
  {
   "cell_type": "code",
   "execution_count": 26,
   "id": "c01e856b",
   "metadata": {},
   "outputs": [],
   "source": [
    "file_path = '/Users/mukesh/Documents/01-Dissertation/final/ratings.csv'\n",
    "ratings.to_csv(file_path, index=False)"
   ]
  },
  {
   "cell_type": "code",
   "execution_count": 27,
   "id": "bb51deff",
   "metadata": {},
   "outputs": [],
   "source": [
    "file_path = '/Users/mukesh/Documents/01-Dissertation/final/genres_features_scaled.npy'\n",
    "np.save(file_path, genres_features_scaled)"
   ]
  },
  {
   "cell_type": "code",
   "execution_count": 28,
   "id": "25c24031",
   "metadata": {},
   "outputs": [],
   "source": [
    "file_path = '/Users/mukesh/Documents/01-Dissertation/final/weighted_features.npy'\n",
    "np.save(file_path, weighted_features)"
   ]
  },
  {
   "cell_type": "code",
   "execution_count": 29,
   "id": "de1bdb0d",
   "metadata": {},
   "outputs": [],
   "source": [
    "file_path = '/Users/mukesh/Documents/01-Dissertation/final/user_movie.csv'\n",
    "user_movie.to_csv(file_path, index=True)"
   ]
  },
  {
   "cell_type": "code",
   "execution_count": 30,
   "id": "7110b68d",
   "metadata": {},
   "outputs": [],
   "source": [
    "file_path = '/Users/mukesh/Documents/01-Dissertation/final/user_similarity_matrix.csv'\n",
    "user_similarity_matrix.to_csv(file_path, index=True)"
   ]
  }
 ],
 "metadata": {
  "kernelspec": {
   "display_name": "Python 3 (ipykernel)",
   "language": "python",
   "name": "python3"
  },
  "language_info": {
   "codemirror_mode": {
    "name": "ipython",
    "version": 3
   },
   "file_extension": ".py",
   "mimetype": "text/x-python",
   "name": "python",
   "nbconvert_exporter": "python",
   "pygments_lexer": "ipython3",
   "version": "3.11.1"
  }
 },
 "nbformat": 4,
 "nbformat_minor": 5
}
